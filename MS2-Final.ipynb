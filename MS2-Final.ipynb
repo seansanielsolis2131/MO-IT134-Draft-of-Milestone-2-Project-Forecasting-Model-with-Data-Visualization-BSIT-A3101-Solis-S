{
  "metadata": {
    "kernelspec": {
      "name": "python",
      "display_name": "Python (Pyodide)",
      "language": "python"
    },
    "language_info": {
      "codemirror_mode": {
        "name": "python",
        "version": 3
      },
      "file_extension": ".py",
      "mimetype": "text/x-python",
      "name": "python",
      "nbconvert_exporter": "python",
      "pygments_lexer": "ipython3",
      "version": "3.8"
    }
  },
  "nbformat_minor": 5,
  "nbformat": 4,
  "cells": [
    {
      "id": "7d606bf8-dd44-490c-8b78-8baee55f6329",
      "cell_type": "code",
      "source": "%pip install seaborn",
      "metadata": {
        "trusted": true
      },
      "outputs": [],
      "execution_count": 1
    },
    {
      "id": "27f52dde-0edc-4a35-9e7c-41fcf6b67384",
      "cell_type": "code",
      "source": "import pandas as pd\nimport numpy as np\nimport matplotlib.pyplot as plt\nimport seaborn as sns\nfrom statsmodels.tsa.statespace.sarimax import SARIMAX",
      "metadata": {
        "trusted": true
      },
      "outputs": [
        {
          "name": "stderr",
          "output_type": "stream",
          "text": "Matplotlib is building the font cache; this may take a moment.\n"
        }
      ],
      "execution_count": 2
    },
    {
      "id": "17754035-9044-47dd-a786-ebbd9dd6d2ec",
      "cell_type": "code",
      "source": "# Load the dataset\ndf = pd.read_csv(\"cleaned_transactions_data.csv\")",
      "metadata": {
        "trusted": true
      },
      "outputs": [],
      "execution_count": 3
    },
    {
      "id": "5074f6ec-f966-426b-a30f-f3d31e2bc615",
      "cell_type": "code",
      "source": "# Convert Transaction_Date to datetime\ndf[\"Transaction_Date\"] = pd.to_datetime(df[\"Transaction_Date\"])",
      "metadata": {
        "trusted": true
      },
      "outputs": [],
      "execution_count": 4
    },
    {
      "id": "b3607a5d-1e40-4865-8663-3f5c3741441c",
      "cell_type": "code",
      "source": "# Group sales by month so we can forecast trends.\ndf_monthly_sales = df.groupby(df[\"Transaction_Date\"].dt.to_period(\"M\")).agg({\"Total_Cost\": \"sum\"}).reset_index()",
      "metadata": {
        "trusted": true
      },
      "outputs": [],
      "execution_count": 8
    },
    {
      "id": "b36ef07d-d222-42fd-9df1-ad79074b3e69",
      "cell_type": "code",
      "source": "# Convert period index back to timestamp format for easier plotting.\ndf_monthly_sales[\"Transaction_Date\"] = df_monthly_sales[\"Transaction_Date\"].dt.to_timestamp()",
      "metadata": {
        "trusted": true
      },
      "outputs": [],
      "execution_count": 9
    },
    {
      "id": "023af10b-e0d2-4578-9831-08ebf952c2be",
      "cell_type": "code",
      "source": "# Use a 3-month rolling average to make sales trends more stable.\ndf_monthly_sales[\"Smoothed_Sales\"] = df_monthly_sales[\"Total_Cost\"].rolling(window=3, min_periods=1).mean()",
      "metadata": {
        "trusted": true
      },
      "outputs": [],
      "execution_count": 10
    },
    {
      "id": "43f34511-13f0-4d48-bbfd-d2423219a26d",
      "cell_type": "code",
      "source": "# Fit an ARIMA(2,1,2) model to forecast sales.\narima_model_smooth = SARIMAX(df_monthly_sales[\"Smoothed_Sales\"], \n                             order=(2,1,2),  # Model parameters\n                             enforce_stationarity=False, \n                             enforce_invertibility=False)\n\n# Fit the model\narima_results_smooth = arima_model_smooth.fit()",
      "metadata": {
        "trusted": true
      },
      "outputs": [],
      "execution_count": 14
    },
    {
      "id": "27108d1f-dfc8-417b-9b91-cc5a6ccef9f8",
      "cell_type": "code",
      "source": "# Predict sales for the next 6 months.\nforecast_steps = 6\nforecast_index = pd.date_range(start=df_monthly_sales[\"Transaction_Date\"].iloc[-1], periods=forecast_steps + 1, freq=\"ME\")[1:]\nforecast_arima_smooth = arima_results_smooth.get_forecast(steps=forecast_steps)",
      "metadata": {
        "trusted": true
      },
      "outputs": [],
      "execution_count": 16
    },
    {
      "id": "d0a9c44d-9178-48cc-8801-9a2ac95239b3",
      "cell_type": "code",
      "source": "# Get the predicted sales values.\nforecast_mean_arima_smooth = forecast_arima_smooth.predicted_mean",
      "metadata": {
        "trusted": true
      },
      "outputs": [],
      "execution_count": 17
    },
    {
      "id": "8fa6f10c-b878-4c52-abd2-911c74d80c1a",
      "cell_type": "code",
      "source": "# Use Seaborn for a clearer and better-looking plot.\nsns.set_style(\"whitegrid\")\nplt.figure(figsize=(12, 6))\n\n# Plot actual and forecasted sales\nsns.lineplot(x=df_monthly_sales[\"Transaction_Date\"], y=df_monthly_sales[\"Smoothed_Sales\"], marker=\"o\", linestyle=\"-\", color=\"black\", label=\"Smoothed Sales\")\nsns.lineplot(x=forecast_index, y=forecast_mean_arima_smooth, marker=\"o\", linestyle=\"--\", color=\"blue\", label=\"Smoothed ARIMA Forecast\")\n\nplt.xlabel(\"Date\")\nplt.ylabel(\"Total Sales ($)\")\nplt.title(\"6-Month Sales Forecast using Smoothed ARIMA\")\nplt.legend()\nplt.show()",
      "metadata": {
        "trusted": true
      },
      "outputs": [],
      "execution_count": null
    }
  ]
}